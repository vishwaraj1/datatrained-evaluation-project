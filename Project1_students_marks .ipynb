{
 "cells": [
  {
   "cell_type": "code",
   "execution_count": 1,
   "metadata": {},
   "outputs": [
    {
     "name": "stdout",
     "output_type": "stream",
     "text": [
      "<mysql.connector.connection_cext.CMySQLConnection object at 0x0000029E620F0828>\n"
     ]
    }
   ],
   "source": [
    "#Establising mysql coonection\n",
    "import mysql.connector\n",
    "#connecting mysql to python\n",
    "db=mysql.connector.connect(host=\"localhost\",user=\"root\",passwd=\"mahi1234\",database=\"studdb\")\n",
    "print(db)"
   ]
  },
  {
   "cell_type": "code",
   "execution_count": 2,
   "metadata": {},
   "outputs": [
    {
     "data": {
      "text/html": [
       "<div>\n",
       "<style scoped>\n",
       "    .dataframe tbody tr th:only-of-type {\n",
       "        vertical-align: middle;\n",
       "    }\n",
       "\n",
       "    .dataframe tbody tr th {\n",
       "        vertical-align: top;\n",
       "    }\n",
       "\n",
       "    .dataframe thead th {\n",
       "        text-align: right;\n",
       "    }\n",
       "</style>\n",
       "<table border=\"1\" class=\"dataframe\">\n",
       "  <thead>\n",
       "    <tr style=\"text-align: right;\">\n",
       "      <th></th>\n",
       "      <th>Name</th>\n",
       "      <th>Gender</th>\n",
       "      <th>DOB</th>\n",
       "      <th>Maths</th>\n",
       "      <th>Physics</th>\n",
       "      <th>Chemistry</th>\n",
       "      <th>English</th>\n",
       "      <th>Biology</th>\n",
       "      <th>Economics</th>\n",
       "      <th>Histroy</th>\n",
       "      <th>Civics</th>\n",
       "    </tr>\n",
       "  </thead>\n",
       "  <tbody>\n",
       "    <tr>\n",
       "      <th>0</th>\n",
       "      <td>John</td>\n",
       "      <td>M</td>\n",
       "      <td>05-04-1988</td>\n",
       "      <td>55</td>\n",
       "      <td>45</td>\n",
       "      <td>56</td>\n",
       "      <td>87</td>\n",
       "      <td>21</td>\n",
       "      <td>52</td>\n",
       "      <td>89</td>\n",
       "      <td>65</td>\n",
       "    </tr>\n",
       "    <tr>\n",
       "      <th>1</th>\n",
       "      <td>Suresh</td>\n",
       "      <td>M</td>\n",
       "      <td>04-05-1987</td>\n",
       "      <td>75</td>\n",
       "      <td>96</td>\n",
       "      <td>78</td>\n",
       "      <td>64</td>\n",
       "      <td>90</td>\n",
       "      <td>61</td>\n",
       "      <td>58</td>\n",
       "      <td>2</td>\n",
       "    </tr>\n",
       "    <tr>\n",
       "      <th>2</th>\n",
       "      <td>Ramesh</td>\n",
       "      <td>M</td>\n",
       "      <td>25-05-1989</td>\n",
       "      <td>25</td>\n",
       "      <td>54</td>\n",
       "      <td>89</td>\n",
       "      <td>76</td>\n",
       "      <td>95</td>\n",
       "      <td>87</td>\n",
       "      <td>56</td>\n",
       "      <td>74</td>\n",
       "    </tr>\n",
       "    <tr>\n",
       "      <th>3</th>\n",
       "      <td>Jessica</td>\n",
       "      <td>F</td>\n",
       "      <td>12-08-1990</td>\n",
       "      <td>78</td>\n",
       "      <td>96</td>\n",
       "      <td>86</td>\n",
       "      <td>63</td>\n",
       "      <td>54</td>\n",
       "      <td>89</td>\n",
       "      <td>75</td>\n",
       "      <td>45</td>\n",
       "    </tr>\n",
       "    <tr>\n",
       "      <th>4</th>\n",
       "      <td>Jennifer</td>\n",
       "      <td>F</td>\n",
       "      <td>02-09-1989</td>\n",
       "      <td>58</td>\n",
       "      <td>96</td>\n",
       "      <td>78</td>\n",
       "      <td>46</td>\n",
       "      <td>96</td>\n",
       "      <td>77</td>\n",
       "      <td>83</td>\n",
       "      <td>53</td>\n",
       "    </tr>\n",
       "    <tr>\n",
       "      <th>5</th>\n",
       "      <td>Annu</td>\n",
       "      <td>F</td>\n",
       "      <td>05-04-1988</td>\n",
       "      <td>45</td>\n",
       "      <td>87</td>\n",
       "      <td>52</td>\n",
       "      <td>89</td>\n",
       "      <td>55</td>\n",
       "      <td>89</td>\n",
       "      <td>87</td>\n",
       "      <td>52</td>\n",
       "    </tr>\n",
       "    <tr>\n",
       "      <th>6</th>\n",
       "      <td>Pooja</td>\n",
       "      <td>F</td>\n",
       "      <td>04-05-1987</td>\n",
       "      <td>55</td>\n",
       "      <td>64</td>\n",
       "      <td>61</td>\n",
       "      <td>58</td>\n",
       "      <td>75</td>\n",
       "      <td>58</td>\n",
       "      <td>64</td>\n",
       "      <td>61</td>\n",
       "    </tr>\n",
       "    <tr>\n",
       "      <th>7</th>\n",
       "      <td>Ritesh</td>\n",
       "      <td>M</td>\n",
       "      <td>25-05-1989</td>\n",
       "      <td>54</td>\n",
       "      <td>76</td>\n",
       "      <td>87</td>\n",
       "      <td>56</td>\n",
       "      <td>25</td>\n",
       "      <td>56</td>\n",
       "      <td>76</td>\n",
       "      <td>87</td>\n",
       "    </tr>\n",
       "    <tr>\n",
       "      <th>8</th>\n",
       "      <td>Farha</td>\n",
       "      <td>F</td>\n",
       "      <td>12-08-1990</td>\n",
       "      <td>55</td>\n",
       "      <td>63</td>\n",
       "      <td>89</td>\n",
       "      <td>75</td>\n",
       "      <td>78</td>\n",
       "      <td>75</td>\n",
       "      <td>63</td>\n",
       "      <td>89</td>\n",
       "    </tr>\n",
       "    <tr>\n",
       "      <th>9</th>\n",
       "      <td>Mukesh</td>\n",
       "      <td>M</td>\n",
       "      <td>02-09-1989</td>\n",
       "      <td>96</td>\n",
       "      <td>46</td>\n",
       "      <td>77</td>\n",
       "      <td>83</td>\n",
       "      <td>58</td>\n",
       "      <td>83</td>\n",
       "      <td>46</td>\n",
       "      <td>77</td>\n",
       "    </tr>\n",
       "  </tbody>\n",
       "</table>\n",
       "</div>"
      ],
      "text/plain": [
       "       Name Gender         DOB  Maths  Physics  Chemistry  English  Biology  \\\n",
       "0      John      M  05-04-1988     55       45         56       87       21   \n",
       "1    Suresh      M  04-05-1987     75       96         78       64       90   \n",
       "2    Ramesh      M  25-05-1989     25       54         89       76       95   \n",
       "3   Jessica      F  12-08-1990     78       96         86       63       54   \n",
       "4  Jennifer      F  02-09-1989     58       96         78       46       96   \n",
       "5      Annu      F  05-04-1988     45       87         52       89       55   \n",
       "6     Pooja      F  04-05-1987     55       64         61       58       75   \n",
       "7    Ritesh      M  25-05-1989     54       76         87       56       25   \n",
       "8     Farha      F  12-08-1990     55       63         89       75       78   \n",
       "9    Mukesh      M  02-09-1989     96       46         77       83       58   \n",
       "\n",
       "   Economics  Histroy  Civics  \n",
       "0         52       89      65  \n",
       "1         61       58       2  \n",
       "2         87       56      74  \n",
       "3         89       75      45  \n",
       "4         77       83      53  \n",
       "5         89       87      52  \n",
       "6         58       64      61  \n",
       "7         56       76      87  \n",
       "8         75       63      89  \n",
       "9         83       46      77  "
      ]
     },
     "execution_count": 2,
     "metadata": {},
     "output_type": "execute_result"
    }
   ],
   "source": [
    "import seaborn as sns\n",
    "import pandas as pd\n",
    "#import the dataset\n",
    "df=pd.read_sql_query(\"select * from studsmarks\",db)\n",
    "df"
   ]
  },
  {
   "cell_type": "code",
   "execution_count": 3,
   "metadata": {},
   "outputs": [
    {
     "data": {
      "text/plain": [
       "(10, 11)"
      ]
     },
     "execution_count": 3,
     "metadata": {},
     "output_type": "execute_result"
    }
   ],
   "source": [
    "#lets check  rows and columns of dataset\n",
    "df.shape"
   ]
  },
  {
   "cell_type": "code",
   "execution_count": 4,
   "metadata": {},
   "outputs": [
    {
     "data": {
      "text/plain": [
       "Name         0\n",
       "Gender       0\n",
       "DOB          0\n",
       "Maths        0\n",
       "Physics      0\n",
       "Chemistry    0\n",
       "English      0\n",
       "Biology      0\n",
       "Economics    0\n",
       "Histroy      0\n",
       "Civics       0\n",
       "dtype: int64"
      ]
     },
     "execution_count": 4,
     "metadata": {},
     "output_type": "execute_result"
    }
   ],
   "source": [
    "#Lets check  number of null values in each column\n",
    "df.isnull().sum()\n",
    "#no null values in any columns"
   ]
  },
  {
   "cell_type": "code",
   "execution_count": 5,
   "metadata": {},
   "outputs": [
    {
     "name": "stdout",
     "output_type": "stream",
     "text": [
      "<class 'pandas.core.frame.DataFrame'>\n",
      "RangeIndex: 10 entries, 0 to 9\n",
      "Data columns (total 11 columns):\n",
      "Name         10 non-null object\n",
      "Gender       10 non-null object\n",
      "DOB          10 non-null object\n",
      "Maths        10 non-null int64\n",
      "Physics      10 non-null int64\n",
      "Chemistry    10 non-null int64\n",
      "English      10 non-null int64\n",
      "Biology      10 non-null int64\n",
      "Economics    10 non-null int64\n",
      "Histroy      10 non-null int64\n",
      "Civics       10 non-null int64\n",
      "dtypes: int64(8), object(3)\n",
      "memory usage: 1008.0+ bytes\n"
     ]
    }
   ],
   "source": [
    "df.info()"
   ]
  },
  {
   "cell_type": "code",
   "execution_count": 6,
   "metadata": {},
   "outputs": [
    {
     "data": {
      "text/html": [
       "<div>\n",
       "<style scoped>\n",
       "    .dataframe tbody tr th:only-of-type {\n",
       "        vertical-align: middle;\n",
       "    }\n",
       "\n",
       "    .dataframe tbody tr th {\n",
       "        vertical-align: top;\n",
       "    }\n",
       "\n",
       "    .dataframe thead th {\n",
       "        text-align: right;\n",
       "    }\n",
       "</style>\n",
       "<table border=\"1\" class=\"dataframe\">\n",
       "  <thead>\n",
       "    <tr style=\"text-align: right;\">\n",
       "      <th></th>\n",
       "      <th>Maths</th>\n",
       "      <th>Physics</th>\n",
       "      <th>Chemistry</th>\n",
       "      <th>English</th>\n",
       "      <th>Biology</th>\n",
       "      <th>Economics</th>\n",
       "      <th>Histroy</th>\n",
       "      <th>Civics</th>\n",
       "    </tr>\n",
       "  </thead>\n",
       "  <tbody>\n",
       "    <tr>\n",
       "      <th>count</th>\n",
       "      <td>10.000000</td>\n",
       "      <td>10.000000</td>\n",
       "      <td>10.000000</td>\n",
       "      <td>10.000000</td>\n",
       "      <td>10.000000</td>\n",
       "      <td>10.000000</td>\n",
       "      <td>10.000000</td>\n",
       "      <td>10.0000</td>\n",
       "    </tr>\n",
       "    <tr>\n",
       "      <th>mean</th>\n",
       "      <td>59.600000</td>\n",
       "      <td>72.300000</td>\n",
       "      <td>75.300000</td>\n",
       "      <td>69.700000</td>\n",
       "      <td>64.700000</td>\n",
       "      <td>72.700000</td>\n",
       "      <td>69.700000</td>\n",
       "      <td>60.5000</td>\n",
       "    </tr>\n",
       "    <tr>\n",
       "      <th>std</th>\n",
       "      <td>19.460501</td>\n",
       "      <td>20.661559</td>\n",
       "      <td>14.000397</td>\n",
       "      <td>14.453373</td>\n",
       "      <td>26.998148</td>\n",
       "      <td>14.629119</td>\n",
       "      <td>14.453373</td>\n",
       "      <td>25.3432</td>\n",
       "    </tr>\n",
       "    <tr>\n",
       "      <th>min</th>\n",
       "      <td>25.000000</td>\n",
       "      <td>45.000000</td>\n",
       "      <td>52.000000</td>\n",
       "      <td>46.000000</td>\n",
       "      <td>21.000000</td>\n",
       "      <td>52.000000</td>\n",
       "      <td>46.000000</td>\n",
       "      <td>2.0000</td>\n",
       "    </tr>\n",
       "    <tr>\n",
       "      <th>25%</th>\n",
       "      <td>54.250000</td>\n",
       "      <td>56.250000</td>\n",
       "      <td>65.000000</td>\n",
       "      <td>59.250000</td>\n",
       "      <td>54.250000</td>\n",
       "      <td>58.750000</td>\n",
       "      <td>59.250000</td>\n",
       "      <td>52.2500</td>\n",
       "    </tr>\n",
       "    <tr>\n",
       "      <th>50%</th>\n",
       "      <td>55.000000</td>\n",
       "      <td>70.000000</td>\n",
       "      <td>78.000000</td>\n",
       "      <td>69.500000</td>\n",
       "      <td>66.500000</td>\n",
       "      <td>76.000000</td>\n",
       "      <td>69.500000</td>\n",
       "      <td>63.0000</td>\n",
       "    </tr>\n",
       "    <tr>\n",
       "      <th>75%</th>\n",
       "      <td>70.750000</td>\n",
       "      <td>93.750000</td>\n",
       "      <td>86.750000</td>\n",
       "      <td>81.250000</td>\n",
       "      <td>87.000000</td>\n",
       "      <td>86.000000</td>\n",
       "      <td>81.250000</td>\n",
       "      <td>76.2500</td>\n",
       "    </tr>\n",
       "    <tr>\n",
       "      <th>max</th>\n",
       "      <td>96.000000</td>\n",
       "      <td>96.000000</td>\n",
       "      <td>89.000000</td>\n",
       "      <td>89.000000</td>\n",
       "      <td>96.000000</td>\n",
       "      <td>89.000000</td>\n",
       "      <td>89.000000</td>\n",
       "      <td>89.0000</td>\n",
       "    </tr>\n",
       "  </tbody>\n",
       "</table>\n",
       "</div>"
      ],
      "text/plain": [
       "           Maths    Physics  Chemistry    English    Biology  Economics  \\\n",
       "count  10.000000  10.000000  10.000000  10.000000  10.000000  10.000000   \n",
       "mean   59.600000  72.300000  75.300000  69.700000  64.700000  72.700000   \n",
       "std    19.460501  20.661559  14.000397  14.453373  26.998148  14.629119   \n",
       "min    25.000000  45.000000  52.000000  46.000000  21.000000  52.000000   \n",
       "25%    54.250000  56.250000  65.000000  59.250000  54.250000  58.750000   \n",
       "50%    55.000000  70.000000  78.000000  69.500000  66.500000  76.000000   \n",
       "75%    70.750000  93.750000  86.750000  81.250000  87.000000  86.000000   \n",
       "max    96.000000  96.000000  89.000000  89.000000  96.000000  89.000000   \n",
       "\n",
       "         Histroy   Civics  \n",
       "count  10.000000  10.0000  \n",
       "mean   69.700000  60.5000  \n",
       "std    14.453373  25.3432  \n",
       "min    46.000000   2.0000  \n",
       "25%    59.250000  52.2500  \n",
       "50%    69.500000  63.0000  \n",
       "75%    81.250000  76.2500  \n",
       "max    89.000000  89.0000  "
      ]
     },
     "execution_count": 6,
     "metadata": {},
     "output_type": "execute_result"
    }
   ],
   "source": [
    "#lets describe the data\n",
    "df.describe()"
   ]
  },
  {
   "cell_type": "code",
   "execution_count": 19,
   "metadata": {},
   "outputs": [
    {
     "data": {
      "text/html": [
       "<div>\n",
       "<style scoped>\n",
       "    .dataframe tbody tr th:only-of-type {\n",
       "        vertical-align: middle;\n",
       "    }\n",
       "\n",
       "    .dataframe tbody tr th {\n",
       "        vertical-align: top;\n",
       "    }\n",
       "\n",
       "    .dataframe thead th {\n",
       "        text-align: right;\n",
       "    }\n",
       "</style>\n",
       "<table border=\"1\" class=\"dataframe\">\n",
       "  <thead>\n",
       "    <tr style=\"text-align: right;\">\n",
       "      <th></th>\n",
       "      <th>Name</th>\n",
       "      <th>Gender</th>\n",
       "      <th>DOB</th>\n",
       "      <th>English</th>\n",
       "    </tr>\n",
       "  </thead>\n",
       "  <tbody>\n",
       "    <tr>\n",
       "      <th>0</th>\n",
       "      <td>John</td>\n",
       "      <td>M</td>\n",
       "      <td>05-04-1988</td>\n",
       "      <td>87</td>\n",
       "    </tr>\n",
       "    <tr>\n",
       "      <th>2</th>\n",
       "      <td>Ramesh</td>\n",
       "      <td>M</td>\n",
       "      <td>25-05-1989</td>\n",
       "      <td>76</td>\n",
       "    </tr>\n",
       "    <tr>\n",
       "      <th>5</th>\n",
       "      <td>Annu</td>\n",
       "      <td>F</td>\n",
       "      <td>05-04-1988</td>\n",
       "      <td>89</td>\n",
       "    </tr>\n",
       "    <tr>\n",
       "      <th>8</th>\n",
       "      <td>Farha</td>\n",
       "      <td>F</td>\n",
       "      <td>12-08-1990</td>\n",
       "      <td>75</td>\n",
       "    </tr>\n",
       "    <tr>\n",
       "      <th>9</th>\n",
       "      <td>Mukesh</td>\n",
       "      <td>M</td>\n",
       "      <td>02-09-1989</td>\n",
       "      <td>83</td>\n",
       "    </tr>\n",
       "  </tbody>\n",
       "</table>\n",
       "</div>"
      ],
      "text/plain": [
       "     Name Gender         DOB  English\n",
       "0    John      M  05-04-1988       87\n",
       "2  Ramesh      M  25-05-1989       76\n",
       "5    Annu      F  05-04-1988       89\n",
       "8   Farha      F  12-08-1990       75\n",
       "9  Mukesh      M  02-09-1989       83"
      ]
     },
     "execution_count": 19,
     "metadata": {},
     "output_type": "execute_result"
    }
   ],
   "source": [
    "#Lets check who all got distinction in englishs\n",
    "df.loc[df[\"English\"]>=75,[\"Name\",\"Gender\",\"DOB\",\"English\"]]"
   ]
  },
  {
   "cell_type": "code",
   "execution_count": 20,
   "metadata": {},
   "outputs": [
    {
     "data": {
      "text/html": [
       "<div>\n",
       "<style scoped>\n",
       "    .dataframe tbody tr th:only-of-type {\n",
       "        vertical-align: middle;\n",
       "    }\n",
       "\n",
       "    .dataframe tbody tr th {\n",
       "        vertical-align: top;\n",
       "    }\n",
       "\n",
       "    .dataframe thead th {\n",
       "        text-align: right;\n",
       "    }\n",
       "</style>\n",
       "<table border=\"1\" class=\"dataframe\">\n",
       "  <thead>\n",
       "    <tr style=\"text-align: right;\">\n",
       "      <th></th>\n",
       "      <th>Name</th>\n",
       "      <th>Gender</th>\n",
       "      <th>DOB</th>\n",
       "      <th>Maths</th>\n",
       "    </tr>\n",
       "  </thead>\n",
       "  <tbody>\n",
       "    <tr>\n",
       "      <th>1</th>\n",
       "      <td>Suresh</td>\n",
       "      <td>M</td>\n",
       "      <td>04-05-1987</td>\n",
       "      <td>75</td>\n",
       "    </tr>\n",
       "    <tr>\n",
       "      <th>3</th>\n",
       "      <td>Jessica</td>\n",
       "      <td>F</td>\n",
       "      <td>12-08-1990</td>\n",
       "      <td>78</td>\n",
       "    </tr>\n",
       "    <tr>\n",
       "      <th>9</th>\n",
       "      <td>Mukesh</td>\n",
       "      <td>M</td>\n",
       "      <td>02-09-1989</td>\n",
       "      <td>96</td>\n",
       "    </tr>\n",
       "  </tbody>\n",
       "</table>\n",
       "</div>"
      ],
      "text/plain": [
       "      Name Gender         DOB  Maths\n",
       "1   Suresh      M  04-05-1987     75\n",
       "3  Jessica      F  12-08-1990     78\n",
       "9   Mukesh      M  02-09-1989     96"
      ]
     },
     "execution_count": 20,
     "metadata": {},
     "output_type": "execute_result"
    }
   ],
   "source": [
    "#Lets check who all got distinction in maths\n",
    "df.loc[df[\"Maths\"]>=75,[\"Name\",\"Gender\",\"DOB\",\"Maths\"]]"
   ]
  },
  {
   "cell_type": "code",
   "execution_count": 7,
   "metadata": {},
   "outputs": [
    {
     "data": {
      "text/plain": [
       "<matplotlib.axes._subplots.AxesSubplot at 0x29e6cd3a470>"
      ]
     },
     "execution_count": 7,
     "metadata": {},
     "output_type": "execute_result"
    },
    {
     "data": {
      "image/png": "[encoded data removed]",
      "text/plain": [
       "<Figure size 432x288 with 2 Axes>"
      ]
     },
     "metadata": {
      "needs_background": "light"
     },
     "output_type": "display_data"
    }
   ],
   "source": [
    "#lets check correlation between columns on heatmap\n",
    "sns.heatmap(df.corr(),yticklabels=False,annot=True)"
   ]
  },
  {
   "cell_type": "code",
   "execution_count": 8,
   "metadata": {},
   "outputs": [
    {
     "name": "stdout",
     "output_type": "stream",
     "text": [
      "     Name Gender         DOB  Maths\n",
      "9  Mukesh      M  02-09-1989     96\n",
      "\n",
      "\n",
      "       Name Gender         DOB  Physics\n",
      "1    Suresh      M  04-05-1987       96\n",
      "3   Jessica      F  12-08-1990       96\n",
      "4  Jennifer      F  02-09-1989       96\n",
      "\n",
      "\n",
      "     Name Gender         DOB  Chemistry\n",
      "2  Ramesh      M  25-05-1989         89\n",
      "8   Farha      F  12-08-1990         89\n",
      "\n",
      "\n",
      "   Name Gender         DOB  English\n",
      "5  Annu      F  05-04-1988       89\n",
      "\n",
      "\n",
      "       Name Gender         DOB  Biology\n",
      "4  Jennifer      F  02-09-1989       96\n",
      "\n",
      "\n",
      "      Name Gender         DOB  Economics\n",
      "3  Jessica      F  12-08-1990         89\n",
      "5     Annu      F  05-04-1988         89\n",
      "\n",
      "\n",
      "   Name Gender         DOB  Histroy\n",
      "0  John      M  05-04-1988       89\n",
      "\n",
      "\n",
      "    Name Gender         DOB  Civics\n",
      "8  Farha      F  12-08-1990      89\n",
      "\n",
      "\n"
     ]
    }
   ],
   "source": [
    "#names of toppers in each subject and their marks\n",
    "def highmarks():\n",
    "  subjects=['Maths', 'Physics', 'Chemistry', 'English','Biology', 'Economics', 'Histroy', 'Civics']\n",
    "  for subject in subjects:\n",
    "    print(df.loc[df[subject]==df[subject].max(),[\"Name\",\"Gender\",\"DOB\",subject]])\n",
    "    print()\n",
    "    print()\n",
    "highmarks()    "
   ]
  },
  {
   "cell_type": "code",
   "execution_count": 9,
   "metadata": {},
   "outputs": [
    {
     "data": {
      "text/plain": [
       "<matplotlib.axes._subplots.AxesSubplot at 0x29e6edf5748>"
      ]
     },
     "execution_count": 9,
     "metadata": {},
     "output_type": "execute_result"
    },
    {
     "data": {
      "image/png": "[encoded data removed]",
      "text/plain": [
       "<Figure size 432x288 with 1 Axes>"
      ]
     },
     "metadata": {
      "needs_background": "light"
     },
     "output_type": "display_data"
    }
   ],
   "source": [
    "#number of girls and boys\n",
    "sns.countplot(x='Gender',data=df)"
   ]
  },
  {
   "cell_type": "code",
   "execution_count": 10,
   "metadata": {},
   "outputs": [
    {
     "data": {
      "text/plain": [
       "<matplotlib.axes._subplots.AxesSubplot at 0x29e6ef42d30>"
      ]
     },
     "execution_count": 10,
     "metadata": {},
     "output_type": "execute_result"
    },
    {
     "data": {
      "image/png": "[encoded data removed]",
      "text/plain": [
       "<Figure size 432x288 with 1 Axes>"
      ]
     },
     "metadata": {
      "needs_background": "light"
     },
     "output_type": "display_data"
    }
   ],
   "source": [
    "#comparing between boys and girls in maths\n",
    "sns.countplot(x='Gender',hue='Maths',data=df)"
   ]
  },
  {
   "cell_type": "code",
   "execution_count": 11,
   "metadata": {},
   "outputs": [
    {
     "data": {
      "text/plain": [
       "<matplotlib.axes._subplots.AxesSubplot at 0x29e6eff4d68>"
      ]
     },
     "execution_count": 11,
     "metadata": {},
     "output_type": "execute_result"
    },
    {
     "data": {
      "image/png": "[encoded data removed]",
      "text/plain": [
       "<Figure size 432x288 with 1 Axes>"
      ]
     },
     "metadata": {
      "needs_background": "light"
     },
     "output_type": "display_data"
    }
   ],
   "source": [
    "sns.barplot(x='Gender',y='English',data=df)"
   ]
  },
  {
   "cell_type": "code",
   "execution_count": 12,
   "metadata": {},
   "outputs": [
    {
     "data": {
      "text/plain": [
       "<matplotlib.axes._subplots.AxesSubplot at 0x29e6f045320>"
      ]
     },
     "execution_count": 12,
     "metadata": {},
     "output_type": "execute_result"
    },
    {
     "data": {
      "image/png": "[encoded data removed]",
      "text/plain": [
       "<Figure size 432x288 with 1 Axes>"
      ]
     },
     "metadata": {
      "needs_background": "light"
     },
     "output_type": "display_data"
    }
   ],
   "source": [
    "sns.boxplot(x='Gender',y='Chemistry',data=df)"
   ]
  },
  {
   "cell_type": "code",
   "execution_count": 13,
   "metadata": {},
   "outputs": [
    {
     "data": {
      "text/plain": [
       "<matplotlib.axes._subplots.AxesSubplot at 0x29e6f0dca58>"
      ]
     },
     "execution_count": 13,
     "metadata": {},
     "output_type": "execute_result"
    },
    {
     "data": {
      "image/png": "[encoded data removed]",
      "text/plain": [
       "<Figure size 432x288 with 1 Axes>"
      ]
     },
     "metadata": {
      "needs_background": "light"
     },
     "output_type": "display_data"
    }
   ],
   "source": [
    "sns.boxplot(x='Gender',y='Histroy',data=df)"
   ]
  },
  {
   "cell_type": "code",
   "execution_count": 14,
   "metadata": {},
   "outputs": [
    {
     "data": {
      "text/plain": [
       "<matplotlib.axes._subplots.AxesSubplot at 0x29e6f1438d0>"
      ]
     },
     "execution_count": 14,
     "metadata": {},
     "output_type": "execute_result"
    },
    {
     "data": {
      "image/png": "[encoded data removed]",
      "text/plain": [
       "<Figure size 432x288 with 1 Axes>"
      ]
     },
     "metadata": {
      "needs_background": "light"
     },
     "output_type": "display_data"
    }
   ],
   "source": [
    "sns.boxplot(y='Civics',x='Gender',data=df)"
   ]
  },
  {
   "cell_type": "code",
   "execution_count": 15,
   "metadata": {},
   "outputs": [
    {
     "data": {
      "text/plain": [
       "<seaborn.axisgrid.PairGrid at 0x29e6f1a6470>"
      ]
     },
     "execution_count": 15,
     "metadata": {},
     "output_type": "execute_result"
    },
    {
     "data": {
      "image/png": "[encoded data removed]",
      "text/plain": [
       "<Figure size 1440x1440 with 72 Axes>"
      ]
     },
     "metadata": {
      "needs_background": "light"
     },
     "output_type": "display_data"
    }
   ],
   "source": [
    "sns.pairplot(df)"
   ]
  },
  {
   "cell_type": "code",
   "execution_count": 22,
   "metadata": {},
   "outputs": [
    {
     "data": {
      "text/plain": [
       "<matplotlib.axes._subplots.AxesSubplot at 0x29e70baf748>"
      ]
     },
     "execution_count": 22,
     "metadata": {},
     "output_type": "execute_result"
    },
    {
     "data": {
      "image/png": "[encoded data removed]",
      "text/plain": [
       "<Figure size 432x288 with 1 Axes>"
      ]
     },
     "metadata": {
      "needs_background": "light"
     },
     "output_type": "display_data"
    }
   ],
   "source": [
    "#civics columns is left skew\n",
    "sns.distplot(df['Civics'])"
   ]
  },
  {
   "cell_type": "code",
   "execution_count": 16,
   "metadata": {},
   "outputs": [
    {
     "data": {
      "text/plain": [
       "Maths        0.246964\n",
       "Physics     -0.045336\n",
       "Chemistry   -0.746462\n",
       "English     -0.131222\n",
       "Biology     -0.496446\n",
       "Economics   -0.245555\n",
       "Histroy     -0.131222\n",
       "Civics      -1.332448\n",
       "dtype: float64"
      ]
     },
     "execution_count": 16,
     "metadata": {},
     "output_type": "execute_result"
    }
   ],
   "source": [
    "#lets check skewness of data\n",
    "df.skew()"
   ]
  }
 ],
 "metadata": {
  "kernelspec": {
   "display_name": "Python 3",
   "language": "python",
   "name": "python3"
  },
  "language_info": {
   "codemirror_mode": {
    "name": "ipython",
    "version": 3
   },
   "file_extension": ".py",
   "mimetype": "text/x-python",
   "name": "python",
   "nbconvert_exporter": "python",
   "pygments_lexer": "ipython3",
   "version": "3.7.3"
  }
 },
 "nbformat": 4,
 "nbformat_minor": 2
}
