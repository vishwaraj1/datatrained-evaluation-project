{
 "cells": [
  {
   "cell_type": "code",
   "execution_count": 1,
   "metadata": {},
   "outputs": [],
   "source": [
    "import pandas as pd\n",
    "import seaborn as sns\n",
    "import numpy as np\n",
    "import matplotlib.pyplot as plt"
   ]
  },
  {
   "cell_type": "code",
   "execution_count": 2,
   "metadata": {},
   "outputs": [
    {
     "data": {
      "text/html": [
       "<div>\n",
       "<style scoped>\n",
       "    .dataframe tbody tr th:only-of-type {\n",
       "        vertical-align: middle;\n",
       "    }\n",
       "\n",
       "    .dataframe tbody tr th {\n",
       "        vertical-align: top;\n",
       "    }\n",
       "\n",
       "    .dataframe thead th {\n",
       "        text-align: right;\n",
       "    }\n",
       "</style>\n",
       "<table border=\"1\" class=\"dataframe\">\n",
       "  <thead>\n",
       "    <tr style=\"text-align: right;\">\n",
       "      <th></th>\n",
       "      <th>age</th>\n",
       "      <th>sex</th>\n",
       "      <th>cp</th>\n",
       "      <th>trestbps</th>\n",
       "      <th>chol</th>\n",
       "      <th>fbs</th>\n",
       "      <th>restecg</th>\n",
       "      <th>thalach</th>\n",
       "      <th>exang</th>\n",
       "      <th>oldpeak</th>\n",
       "      <th>slope</th>\n",
       "      <th>ca</th>\n",
       "      <th>thal</th>\n",
       "      <th>targ</th>\n",
       "    </tr>\n",
       "  </thead>\n",
       "  <tbody>\n",
       "    <tr>\n",
       "      <th>0</th>\n",
       "      <td>63</td>\n",
       "      <td>1</td>\n",
       "      <td>4</td>\n",
       "      <td>140</td>\n",
       "      <td>260</td>\n",
       "      <td>0</td>\n",
       "      <td>1</td>\n",
       "      <td>112</td>\n",
       "      <td>1</td>\n",
       "      <td>3</td>\n",
       "      <td>2</td>\n",
       "      <td>?</td>\n",
       "      <td>?</td>\n",
       "      <td>2</td>\n",
       "    </tr>\n",
       "    <tr>\n",
       "      <th>1</th>\n",
       "      <td>44</td>\n",
       "      <td>1</td>\n",
       "      <td>4</td>\n",
       "      <td>130</td>\n",
       "      <td>209</td>\n",
       "      <td>0</td>\n",
       "      <td>1</td>\n",
       "      <td>127</td>\n",
       "      <td>0</td>\n",
       "      <td>0</td>\n",
       "      <td>?</td>\n",
       "      <td>?</td>\n",
       "      <td>?</td>\n",
       "      <td>0</td>\n",
       "    </tr>\n",
       "    <tr>\n",
       "      <th>2</th>\n",
       "      <td>60</td>\n",
       "      <td>1</td>\n",
       "      <td>4</td>\n",
       "      <td>132</td>\n",
       "      <td>218</td>\n",
       "      <td>0</td>\n",
       "      <td>1</td>\n",
       "      <td>140</td>\n",
       "      <td>1</td>\n",
       "      <td>1.5</td>\n",
       "      <td>3</td>\n",
       "      <td>?</td>\n",
       "      <td>?</td>\n",
       "      <td>2</td>\n",
       "    </tr>\n",
       "    <tr>\n",
       "      <th>3</th>\n",
       "      <td>55</td>\n",
       "      <td>1</td>\n",
       "      <td>4</td>\n",
       "      <td>142</td>\n",
       "      <td>228</td>\n",
       "      <td>0</td>\n",
       "      <td>1</td>\n",
       "      <td>149</td>\n",
       "      <td>1</td>\n",
       "      <td>2.5</td>\n",
       "      <td>1</td>\n",
       "      <td>?</td>\n",
       "      <td>?</td>\n",
       "      <td>1</td>\n",
       "    </tr>\n",
       "    <tr>\n",
       "      <th>4</th>\n",
       "      <td>66</td>\n",
       "      <td>1</td>\n",
       "      <td>3</td>\n",
       "      <td>110</td>\n",
       "      <td>213</td>\n",
       "      <td>1</td>\n",
       "      <td>2</td>\n",
       "      <td>99</td>\n",
       "      <td>1</td>\n",
       "      <td>1.3</td>\n",
       "      <td>2</td>\n",
       "      <td>?</td>\n",
       "      <td>?</td>\n",
       "      <td>0</td>\n",
       "    </tr>\n",
       "  </tbody>\n",
       "</table>\n",
       "</div>"
      ],
      "text/plain": [
       "   age  sex  cp trestbps chol fbs  restecg thalach exang oldpeak slope ca  \\\n",
       "0   63    1   4      140  260   0        1     112     1       3     2  ?   \n",
       "1   44    1   4      130  209   0        1     127     0       0     ?  ?   \n",
       "2   60    1   4      132  218   0        1     140     1     1.5     3  ?   \n",
       "3   55    1   4      142  228   0        1     149     1     2.5     1  ?   \n",
       "4   66    1   3      110  213   1        2      99     1     1.3     2  ?   \n",
       "\n",
       "  thal  targ  \n",
       "0    ?     2  \n",
       "1    ?     0  \n",
       "2    ?     2  \n",
       "3    ?     1  \n",
       "4    ?     0  "
      ]
     },
     "execution_count": 2,
     "metadata": {},
     "output_type": "execute_result"
    }
   ],
   "source": [
    "df=pd.read_csv(\"heartdisease_data.csv\",names=['age','sex','cp','trestbps','chol','fbs','restecg','thalach','exang'\n",
    "                                              ,'oldpeak','slope',\n",
    "                                              'ca','thal','targ'])\n",
    "df.head()"
   ]
  },
  {
   "cell_type": "code",
   "execution_count": 3,
   "metadata": {},
   "outputs": [
    {
     "data": {
      "text/plain": [
       "(200, 14)"
      ]
     },
     "execution_count": 3,
     "metadata": {},
     "output_type": "execute_result"
    }
   ],
   "source": [
    "df.shape"
   ]
  },
  {
   "cell_type": "code",
   "execution_count": 4,
   "metadata": {},
   "outputs": [
    {
     "data": {
      "text/plain": [
       "age         0\n",
       "sex         0\n",
       "cp          0\n",
       "trestbps    0\n",
       "chol        0\n",
       "fbs         0\n",
       "restecg     0\n",
       "thalach     0\n",
       "exang       0\n",
       "oldpeak     0\n",
       "slope       0\n",
       "ca          0\n",
       "thal        0\n",
       "targ        0\n",
       "dtype: int64"
      ]
     },
     "execution_count": 4,
     "metadata": {},
     "output_type": "execute_result"
    }
   ],
   "source": [
    "df.isnull().sum()"
   ]
  },
  {
   "cell_type": "code",
   "execution_count": 5,
   "metadata": {},
   "outputs": [
    {
     "data": {
      "text/plain": [
       "<matplotlib.axes._subplots.AxesSubplot at 0x1bf13119828>"
      ]
     },
     "execution_count": 5,
     "metadata": {},
     "output_type": "execute_result"
    },
    {
     "data": {
      "image/png": "[encoded data removed]",
      "text/plain": [
       "<Figure size 864x576 with 2 Axes>"
      ]
     },
     "metadata": {
      "needs_background": "light"
     },
     "output_type": "display_data"
    }
   ],
   "source": [
    "plt.figure(figsize=(12,8))\n",
    "sns.heatmap(df.corr(),yticklabels=False,annot=True)"
   ]
  },
  {
   "cell_type": "code",
   "execution_count": 6,
   "metadata": {},
   "outputs": [
    {
     "data": {
      "text/plain": [
       "age          int64\n",
       "sex          int64\n",
       "cp           int64\n",
       "trestbps    object\n",
       "chol        object\n",
       "fbs         object\n",
       "restecg      int64\n",
       "thalach     object\n",
       "exang       object\n",
       "oldpeak     object\n",
       "slope       object\n",
       "ca          object\n",
       "thal        object\n",
       "targ         int64\n",
       "dtype: object"
      ]
     },
     "execution_count": 6,
     "metadata": {},
     "output_type": "execute_result"
    }
   ],
   "source": [
    "df.dtypes"
   ]
  },
  {
   "cell_type": "code",
   "execution_count": 7,
   "metadata": {},
   "outputs": [
    {
     "name": "stdout",
     "output_type": "stream",
     "text": [
      "?      56\n",
      "120    16\n",
      "130    15\n",
      "140    10\n",
      "110     9\n",
      "150     9\n",
      "160     8\n",
      "122     6\n",
      "142     5\n",
      "124     4\n",
      "128     4\n",
      "126     4\n",
      "170     4\n",
      "134     4\n",
      "136     4\n",
      "144     4\n",
      "158     3\n",
      "132     3\n",
      "112     2\n",
      "152     2\n",
      "155     2\n",
      "138     2\n",
      "116     2\n",
      "104     2\n",
      "154     2\n",
      "180     2\n",
      "125     2\n",
      "118     1\n",
      "172     1\n",
      "178     1\n",
      "146     1\n",
      "96      1\n",
      "190     1\n",
      "135     1\n",
      "100     1\n",
      "106     1\n",
      "127     1\n",
      "156     1\n",
      "0       1\n",
      "102     1\n",
      "114     1\n",
      "Name: trestbps, dtype: int64\n",
      "\n",
      "0      49\n",
      "?       7\n",
      "258     4\n",
      "220     4\n",
      "203     4\n",
      "       ..\n",
      "230     1\n",
      "273     1\n",
      "281     1\n",
      "311     1\n",
      "271     1\n",
      "Name: chol, Length: 100, dtype: int64\n",
      "\n",
      "0    125\n",
      "1     68\n",
      "?      7\n",
      "Name: fbs, dtype: int64\n",
      "\n",
      "?      53\n",
      "120    12\n",
      "140    12\n",
      "110     8\n",
      "112     6\n",
      "130     6\n",
      "150     4\n",
      "100     4\n",
      "128     4\n",
      "105     4\n",
      "160     4\n",
      "118     4\n",
      "148     3\n",
      "122     3\n",
      "102     3\n",
      "108     3\n",
      "86      3\n",
      "125     3\n",
      "135     3\n",
      "106     3\n",
      "117     3\n",
      "84      3\n",
      "127     2\n",
      "129     2\n",
      "96      2\n",
      "154     2\n",
      "165     2\n",
      "180     2\n",
      "98      2\n",
      "119     2\n",
      "111     2\n",
      "138     2\n",
      "80      2\n",
      "121     1\n",
      "145     1\n",
      "151     1\n",
      "149     1\n",
      "124     1\n",
      "99      1\n",
      "155     1\n",
      "107     1\n",
      "126     1\n",
      "93      1\n",
      "141     1\n",
      "94      1\n",
      "113     1\n",
      "69      1\n",
      "97      1\n",
      "132     1\n",
      "162     1\n",
      "88      1\n",
      "161     1\n",
      "144     1\n",
      "159     1\n",
      "73      1\n",
      "133     1\n",
      "131     1\n",
      "157     1\n",
      "115     1\n",
      "123     1\n",
      "Name: thalach, dtype: int64\n",
      "\n",
      "1    95\n",
      "?    53\n",
      "0    52\n",
      "Name: exang, dtype: int64\n",
      "\n",
      "?       56\n",
      "0       40\n",
      "2       25\n",
      "1.5     21\n",
      "1       18\n",
      "3       13\n",
      "2.5      9\n",
      "0.5      7\n",
      "4        4\n",
      "1.3      2\n",
      "1.7      1\n",
      "0.8      1\n",
      "3.5      1\n",
      "1.6      1\n",
      "-0.5     1\n",
      "Name: oldpeak, dtype: int64\n",
      "\n",
      "?    102\n",
      "2     53\n",
      "3     29\n",
      "1     16\n",
      "Name: slope, dtype: int64\n",
      "\n",
      "?    198\n",
      "0      2\n",
      "Name: ca, dtype: int64\n",
      "\n",
      "?    166\n",
      "7     22\n",
      "6      8\n",
      "3      4\n",
      "Name: thal, dtype: int64\n",
      "\n"
     ]
    }
   ],
   "source": [
    "\n",
    "for col in df.columns:\n",
    "    if df[col].dtypes=='object':\n",
    "        print(df[col].value_counts())\n",
    "        print()"
   ]
  },
  {
   "cell_type": "code",
   "execution_count": 8,
   "metadata": {},
   "outputs": [],
   "source": [
    "#replace ? with nan\n",
    "df['trestbps'].replace('?', np.nan, inplace= True)\n",
    "df['chol'].replace('?', np.nan, inplace= True)\n",
    "df['fbs'].replace('?', np.nan, inplace= True)\n",
    "df['restecg'].replace('?', np.nan, inplace= True)\n",
    "df['thalach'].replace('?', np.nan, inplace= True)\n",
    "df['exang'].replace('?', np.nan, inplace= True)\n",
    "df['oldpeak'].replace('?', np.nan, inplace= True)\n",
    "df['slope'].replace('?', np.nan, inplace= True)\n",
    "df['ca'].replace('?', np.nan, inplace= True)\n",
    "df['thal'].replace('?', np.nan, inplace= True)\n",
    "df['targ'].replace('?', np.nan, inplace= True)"
   ]
  },
  {
   "cell_type": "code",
   "execution_count": 9,
   "metadata": {},
   "outputs": [
    {
     "data": {
      "text/plain": [
       "age           0\n",
       "sex           0\n",
       "cp            0\n",
       "trestbps     56\n",
       "chol          7\n",
       "fbs           7\n",
       "restecg       0\n",
       "thalach      53\n",
       "exang        53\n",
       "oldpeak      56\n",
       "slope       102\n",
       "ca          198\n",
       "thal        166\n",
       "targ          0\n",
       "dtype: int64"
      ]
     },
     "execution_count": 9,
     "metadata": {},
     "output_type": "execute_result"
    }
   ],
   "source": [
    "df.isnull().sum()"
   ]
  },
  {
   "cell_type": "code",
   "execution_count": 10,
   "metadata": {},
   "outputs": [],
   "source": [
    "#converting object type data to numberic type data\n",
    "#for col in df.columns:\n",
    "   # if df[col].dtypes=='object':\n",
    "     #   df[col]=pd.to_numeric(df[col])"
   ]
  },
  {
   "cell_type": "code",
   "execution_count": 11,
   "metadata": {},
   "outputs": [
    {
     "data": {
      "text/plain": [
       "age          int64\n",
       "sex          int64\n",
       "cp           int64\n",
       "trestbps    object\n",
       "chol        object\n",
       "fbs         object\n",
       "restecg      int64\n",
       "thalach     object\n",
       "exang       object\n",
       "oldpeak     object\n",
       "slope       object\n",
       "ca          object\n",
       "thal        object\n",
       "targ         int64\n",
       "dtype: object"
      ]
     },
     "execution_count": 11,
     "metadata": {},
     "output_type": "execute_result"
    }
   ],
   "source": [
    "df.dtypes"
   ]
  },
  {
   "cell_type": "markdown",
   "metadata": {},
   "source": [
    "# filling nan value with mean and mode for catogorical value"
   ]
  },
  {
   "cell_type": "code",
   "execution_count": 15,
   "metadata": {},
   "outputs": [],
   "source": [
    "df['trestbps']=pd.to_numeric(df['trestbps'])\n",
    "mean_value=df['trestbps'].mean()\n",
    "df['trestbps']=df['trestbps'].fillna(mean_value)"
   ]
  },
  {
   "cell_type": "code",
   "execution_count": 17,
   "metadata": {},
   "outputs": [],
   "source": [
    "df['chol']=pd.to_numeric(df['chol'])\n",
    "mean_value=df['chol'].mean()\n",
    "df['chol']=df['chol'].fillna(mean_value)"
   ]
  },
  {
   "cell_type": "code",
   "execution_count": 18,
   "metadata": {},
   "outputs": [],
   "source": [
    "mean_value=df['fbs'].mode()[0]\n",
    "df['fbs']=df['fbs'].fillna(mean_value)"
   ]
  },
  {
   "cell_type": "code",
   "execution_count": 61,
   "metadata": {},
   "outputs": [],
   "source": [
    "#df['thalach']=pd.to_numeric(df['thalach'])\n",
    "mean_value=df['thalach'].median()\n",
    "df['thalach']=df['thalach'].fillna(mean_value)"
   ]
  },
  {
   "cell_type": "code",
   "execution_count": 60,
   "metadata": {},
   "outputs": [
    {
     "data": {
      "text/plain": [
       "120.0    53\n",
       "120      12\n",
       "140      12\n",
       "110       8\n",
       "112       6\n",
       "130       6\n",
       "118       4\n",
       "150       4\n",
       "100       4\n",
       "128       4\n",
       "105       4\n",
       "160       4\n",
       "148       3\n",
       "102       3\n",
       "108       3\n",
       "86        3\n",
       "125       3\n",
       "122       3\n",
       "106       3\n",
       "135       3\n",
       "117       3\n",
       "84        3\n",
       "165       2\n",
       "127       2\n",
       "129       2\n",
       "96        2\n",
       "154       2\n",
       "180       2\n",
       "119       2\n",
       "98        2\n",
       "111       2\n",
       "138       2\n",
       "80        2\n",
       "99        1\n",
       "121       1\n",
       "145       1\n",
       "149       1\n",
       "124       1\n",
       "151       1\n",
       "155       1\n",
       "107       1\n",
       "126       1\n",
       "93        1\n",
       "141       1\n",
       "94        1\n",
       "113       1\n",
       "69        1\n",
       "97        1\n",
       "132       1\n",
       "162       1\n",
       "88        1\n",
       "161       1\n",
       "144       1\n",
       "159       1\n",
       "73        1\n",
       "133       1\n",
       "131       1\n",
       "157       1\n",
       "115       1\n",
       "123       1\n",
       "Name: thalach, dtype: int64"
      ]
     },
     "execution_count": 60,
     "metadata": {},
     "output_type": "execute_result"
    }
   ],
   "source": [
    "df['thalach'].value_counts()"
   ]
  },
  {
   "cell_type": "code",
   "execution_count": 44,
   "metadata": {},
   "outputs": [],
   "source": [
    "mean_value=df['exang'].mode()\n",
    "df['exang']=df['exang'].fillna(mean_value)"
   ]
  },
  {
   "cell_type": "code",
   "execution_count": 45,
   "metadata": {},
   "outputs": [
    {
     "data": {
      "text/plain": [
       "1      95\n",
       "1.0    53\n",
       "0      52\n",
       "Name: exang, dtype: int64"
      ]
     },
     "execution_count": 45,
     "metadata": {},
     "output_type": "execute_result"
    }
   ],
   "source": [
    "df['exang'].value_counts()"
   ]
  },
  {
   "cell_type": "code",
   "execution_count": 47,
   "metadata": {},
   "outputs": [],
   "source": [
    "df['oldpeak']=pd.to_numeric(df['oldpeak'])\n",
    "mean_value=df['oldpeak'].mean()\n",
    "df['oldpeak']=df['oldpeak'].fillna(mean_value)"
   ]
  },
  {
   "cell_type": "code",
   "execution_count": 49,
   "metadata": {},
   "outputs": [
    {
     "data": {
      "text/plain": [
       " 1.320833    56\n",
       " 0.000000    40\n",
       " 2.000000    25\n",
       " 1.500000    21\n",
       " 1.000000    18\n",
       " 3.000000    13\n",
       " 2.500000     9\n",
       " 0.500000     7\n",
       " 4.000000     4\n",
       " 1.300000     2\n",
       " 1.700000     1\n",
       " 0.800000     1\n",
       " 1.600000     1\n",
       " 3.500000     1\n",
       "-0.500000     1\n",
       "Name: oldpeak, dtype: int64"
      ]
     },
     "execution_count": 49,
     "metadata": {},
     "output_type": "execute_result"
    }
   ],
   "source": [
    "df['oldpeak'].value_counts()"
   ]
  },
  {
   "cell_type": "code",
   "execution_count": 50,
   "metadata": {},
   "outputs": [],
   "source": [
    "mean_value=df['trestbps'].mean()\n",
    "df['trestbps']=df['trestbps'].fillna(mean_value)"
   ]
  },
  {
   "cell_type": "code",
   "execution_count": 57,
   "metadata": {},
   "outputs": [],
   "source": [
    "mean_value=df['slope'].median()\n",
    "df['slope']=df['slope'].fillna(mean_value)"
   ]
  },
  {
   "cell_type": "code",
   "execution_count": 72,
   "metadata": {},
   "outputs": [],
   "source": [
    "mean_value=df['thal'].mode()\n",
    "df['thal']=df['thal'].fillna(mean_value)"
   ]
  },
  {
   "cell_type": "code",
   "execution_count": 73,
   "metadata": {},
   "outputs": [
    {
     "data": {
      "text/plain": [
       "7.0    166\n",
       "7       22\n",
       "6        8\n",
       "3        4\n",
       "Name: thal, dtype: int64"
      ]
     },
     "execution_count": 73,
     "metadata": {},
     "output_type": "execute_result"
    }
   ],
   "source": [
    "df['thal'].value_counts()"
   ]
  },
  {
   "cell_type": "code",
   "execution_count": null,
   "metadata": {},
   "outputs": [],
   "source": [
    "#fill null value with zero \n",
    "#df['thal'].replace(np.nan, 0, inplace= True)"
   ]
  },
  {
   "cell_type": "code",
   "execution_count": 53,
   "metadata": {},
   "outputs": [],
   "source": [
    "#99% ca data is missing so we can delete ca columns\n",
    "del df['ca']"
   ]
  },
  {
   "cell_type": "code",
   "execution_count": 64,
   "metadata": {},
   "outputs": [
    {
     "data": {
      "text/plain": [
       "age         0\n",
       "sex         0\n",
       "cp          0\n",
       "trestbps    0\n",
       "chol        0\n",
       "fbs         0\n",
       "restecg     0\n",
       "thalach     0\n",
       "exang       0\n",
       "oldpeak     0\n",
       "slope       0\n",
       "thal        0\n",
       "targ        0\n",
       "dtype: int64"
      ]
     },
     "execution_count": 64,
     "metadata": {},
     "output_type": "execute_result"
    }
   ],
   "source": [
    "df.isnull().sum()"
   ]
  },
  {
   "cell_type": "code",
   "execution_count": 74,
   "metadata": {},
   "outputs": [
    {
     "data": {
      "text/plain": [
       "<matplotlib.axes._subplots.AxesSubplot at 0x1bf165f1d68>"
      ]
     },
     "execution_count": 74,
     "metadata": {},
     "output_type": "execute_result"
    },
    {
     "data": {
      "image/png": "[encoded data removed]",
      "text/plain": [
       "<Figure size 864x576 with 2 Axes>"
      ]
     },
     "metadata": {
      "needs_background": "light"
     },
     "output_type": "display_data"
    }
   ],
   "source": [
    "plt.figure(figsize=(12,8))\n",
    "sns.heatmap(df.corr(),yticklabels=False,annot=True)"
   ]
  },
  {
   "cell_type": "code",
   "execution_count": 75,
   "metadata": {},
   "outputs": [
    {
     "data": {
      "text/plain": [
       "<matplotlib.axes._subplots.AxesSubplot at 0x1bf1669b550>"
      ]
     },
     "execution_count": 75,
     "metadata": {},
     "output_type": "execute_result"
    },
    {
     "data": {
      "image/png": "[encoded data removed]",
      "text/plain": [
       "<Figure size 432x288 with 1 Axes>"
      ]
     },
     "metadata": {
      "needs_background": "light"
     },
     "output_type": "display_data"
    }
   ],
   "source": [
    "sns.countplot(x='targ',data=df,palette='RdBu_r')"
   ]
  },
  {
   "cell_type": "code",
   "execution_count": null,
   "metadata": {},
   "outputs": [],
   "source": []
  },
  {
   "cell_type": "code",
   "execution_count": 76,
   "metadata": {},
   "outputs": [
    {
     "data": {
      "text/plain": [
       "array([[<matplotlib.axes._subplots.AxesSubplot object at 0x000001BF1645BE48>,\n",
       "        <matplotlib.axes._subplots.AxesSubplot object at 0x000001BF166F7400>,\n",
       "        <matplotlib.axes._subplots.AxesSubplot object at 0x000001BF16725898>],\n",
       "       [<matplotlib.axes._subplots.AxesSubplot object at 0x000001BF16757E48>,\n",
       "        <matplotlib.axes._subplots.AxesSubplot object at 0x000001BF16794438>,\n",
       "        <matplotlib.axes._subplots.AxesSubplot object at 0x000001BF167C59E8>],\n",
       "       [<matplotlib.axes._subplots.AxesSubplot object at 0x000001BF167F7F98>,\n",
       "        <matplotlib.axes._subplots.AxesSubplot object at 0x000001BF168315C0>,\n",
       "        <matplotlib.axes._subplots.AxesSubplot object at 0x000001BF168315F8>]],\n",
       "      dtype=object)"
      ]
     },
     "execution_count": 76,
     "metadata": {},
     "output_type": "execute_result"
    },
    {
     "data": {
      "image/png": "[encoded data removed]",
      "text/plain": [
       "<Figure size 864x576 with 9 Axes>"
      ]
     },
     "metadata": {
      "needs_background": "light"
     },
     "output_type": "display_data"
    }
   ],
   "source": [
    "df.hist(figsize=(12,8))"
   ]
  },
  {
   "cell_type": "code",
   "execution_count": 78,
   "metadata": {},
   "outputs": [],
   "source": [
    "#df.skew()"
   ]
  },
  {
   "cell_type": "code",
   "execution_count": 81,
   "metadata": {},
   "outputs": [],
   "source": [
    "from sklearn.preprocessing import StandardScaler\n",
    "standardScaler = StandardScaler()\n",
    "columns_to_scale = ['age', 'trestbps', 'chol', 'thalach', 'oldpeak']\n",
    "df[columns_to_scale] = standardScaler.fit_transform(df[columns_to_scale])"
   ]
  },
  {
   "cell_type": "code",
   "execution_count": 82,
   "metadata": {},
   "outputs": [
    {
     "data": {
      "text/html": [
       "<div>\n",
       "<style scoped>\n",
       "    .dataframe tbody tr th:only-of-type {\n",
       "        vertical-align: middle;\n",
       "    }\n",
       "\n",
       "    .dataframe tbody tr th {\n",
       "        vertical-align: top;\n",
       "    }\n",
       "\n",
       "    .dataframe thead th {\n",
       "        text-align: right;\n",
       "    }\n",
       "</style>\n",
       "<table border=\"1\" class=\"dataframe\">\n",
       "  <thead>\n",
       "    <tr style=\"text-align: right;\">\n",
       "      <th></th>\n",
       "      <th>age</th>\n",
       "      <th>sex</th>\n",
       "      <th>cp</th>\n",
       "      <th>trestbps</th>\n",
       "      <th>chol</th>\n",
       "      <th>fbs</th>\n",
       "      <th>restecg</th>\n",
       "      <th>thalach</th>\n",
       "      <th>exang</th>\n",
       "      <th>oldpeak</th>\n",
       "      <th>slope</th>\n",
       "      <th>thal</th>\n",
       "    </tr>\n",
       "  </thead>\n",
       "  <tbody>\n",
       "    <tr>\n",
       "      <th>0</th>\n",
       "      <td>0.468421</td>\n",
       "      <td>1</td>\n",
       "      <td>4</td>\n",
       "      <td>0.342421</td>\n",
       "      <td>0.727226</td>\n",
       "      <td>0</td>\n",
       "      <td>1</td>\n",
       "      <td>-0.534016</td>\n",
       "      <td>1</td>\n",
       "      <td>1.795117</td>\n",
       "      <td>2</td>\n",
       "      <td>7</td>\n",
       "    </tr>\n",
       "    <tr>\n",
       "      <th>1</th>\n",
       "      <td>-1.969933</td>\n",
       "      <td>1</td>\n",
       "      <td>4</td>\n",
       "      <td>-0.206673</td>\n",
       "      <td>0.270774</td>\n",
       "      <td>0</td>\n",
       "      <td>1</td>\n",
       "      <td>0.262627</td>\n",
       "      <td>0</td>\n",
       "      <td>-1.412040</td>\n",
       "      <td>2</td>\n",
       "      <td>7</td>\n",
       "    </tr>\n",
       "  </tbody>\n",
       "</table>\n",
       "</div>"
      ],
      "text/plain": [
       "        age  sex  cp  trestbps      chol fbs  restecg   thalach exang  \\\n",
       "0  0.468421    1   4  0.342421  0.727226   0        1 -0.534016     1   \n",
       "1 -1.969933    1   4 -0.206673  0.270774   0        1  0.262627     0   \n",
       "\n",
       "    oldpeak slope thal  \n",
       "0  1.795117     2    7  \n",
       "1 -1.412040     2    7  "
      ]
     },
     "execution_count": 82,
     "metadata": {},
     "output_type": "execute_result"
    }
   ],
   "source": [
    "x = df.drop(['targ'], axis = 1)\n",
    "x.head(2)"
   ]
  },
  {
   "cell_type": "code",
   "execution_count": 133,
   "metadata": {},
   "outputs": [
    {
     "data": {
      "text/plain": [
       "age        -0.404091\n",
       "sex        -5.552105\n",
       "cp         -1.648734\n",
       "trestbps   -1.511363\n",
       "chol       -0.571879\n",
       "fbs         0.680636\n",
       "restecg     0.391463\n",
       "thalach     0.265689\n",
       "exang      -1.102593\n",
       "oldpeak     0.423414\n",
       "slope       0.210521\n",
       "thal       -5.920627\n",
       "dtype: float64"
      ]
     },
     "execution_count": 133,
     "metadata": {},
     "output_type": "execute_result"
    }
   ],
   "source": [
    "x.skew()"
   ]
  },
  {
   "cell_type": "code",
   "execution_count": 83,
   "metadata": {},
   "outputs": [
    {
     "data": {
      "text/plain": [
       "0    2\n",
       "1    0\n",
       "Name: targ, dtype: int64"
      ]
     },
     "execution_count": 83,
     "metadata": {},
     "output_type": "execute_result"
    }
   ],
   "source": [
    "y = df['targ']\n",
    "y.head(2)"
   ]
  },
  {
   "cell_type": "code",
   "execution_count": 118,
   "metadata": {},
   "outputs": [],
   "source": [
    "from sklearn.svm import SVC\n",
    "from sklearn.tree import DecisionTreeClassifier\n",
    "from sklearn.ensemble import AdaBoostClassifier\n",
    "from sklearn.ensemble import RandomForestClassifier\n",
    "from sklearn.metrics import f1_score,accuracy_score"
   ]
  },
  {
   "cell_type": "code",
   "execution_count": 117,
   "metadata": {},
   "outputs": [],
   "source": [
    "from sklearn.model_selection import train_test_split\n",
    "x_train,x_test,y_train,y_test=train_test_split(x,y,test_size=.30,random_state=6)"
   ]
  },
  {
   "cell_type": "code",
   "execution_count": 122,
   "metadata": {},
   "outputs": [],
   "source": [
    "model=[SVC(),DecisionTreeClassifier(),AdaBoostClassifier(),RandomForestClassifier()]"
   ]
  },
  {
   "cell_type": "code",
   "execution_count": 123,
   "metadata": {},
   "outputs": [
    {
     "name": "stdout",
     "output_type": "stream",
     "text": [
      "f1 score:  model name:  SVC(C=1.0, break_ties=False, cache_size=200, class_weight=None, coef0=0.0,\n",
      "    decision_function_shape='ovr', degree=3, gamma='scale', kernel='rbf',\n",
      "    max_iter=-1, probability=False, random_state=None, shrinking=True,\n",
      "    tol=0.001, verbose=False) 0.18847290640394088\n",
      "\n",
      "\n",
      "f1 score:  model name:  DecisionTreeClassifier(ccp_alpha=0.0, class_weight=None, criterion='gini',\n",
      "                       max_depth=None, max_features=None, max_leaf_nodes=None,\n",
      "                       min_impurity_decrease=0.0, min_impurity_split=None,\n",
      "                       min_samples_leaf=1, min_samples_split=2,\n",
      "                       min_weight_fraction_leaf=0.0, presort='deprecated',\n",
      "                       random_state=None, splitter='best') 0.27163947163947166\n",
      "\n",
      "\n",
      "f1 score:  model name:  AdaBoostClassifier(algorithm='SAMME.R', base_estimator=None, learning_rate=1.0,\n",
      "                   n_estimators=50, random_state=None) 0.29030595813204507\n",
      "\n",
      "\n",
      "f1 score:  model name:  RandomForestClassifier(bootstrap=True, ccp_alpha=0.0, class_weight=None,\n",
      "                       criterion='gini', max_depth=None, max_features='auto',\n",
      "                       max_leaf_nodes=None, max_samples=None,\n",
      "                       min_impurity_decrease=0.0, min_impurity_split=None,\n",
      "                       min_samples_leaf=1, min_samples_split=2,\n",
      "                       min_weight_fraction_leaf=0.0, n_estimators=100,\n",
      "                       n_jobs=None, oob_score=False, random_state=None,\n",
      "                       verbose=0, warm_start=False) 0.23702239789196314\n",
      "\n",
      "\n"
     ]
    }
   ],
   "source": [
    "for m in model:\n",
    "    m.fit(x_train,y_train)\n",
    "    pred=m.predict(x_test)\n",
    "    score=f1_score(pred,y_test,average='macro')\n",
    "    print(\"f1 score: \",\"model name: \", m ,score)\n",
    "    print(\"\\n\")\n",
    "    "
   ]
  },
  {
   "cell_type": "code",
   "execution_count": 107,
   "metadata": {},
   "outputs": [],
   "source": [
    "from sklearn.metrics import f1_score,confusion_matrix,classification_report\n",
    "from sklearn.model_selection import train_test_split\n",
    "def maxf1(clf,x,y):\n",
    "    maxf=0\n",
    "    rs=0\n",
    "    for r_state in range(40,95):\n",
    "        x_train,x_test,y_train,y_test=train_test_split(x,y,test_size=0.3,random_state=r_state)\n",
    "        clf.fit(x_train,y_train)\n",
    "        pred=clf.predict(x_test)\n",
    "        tem=f1_score(y_test,pred,average='macro')\n",
    "        if tem>maxf:\n",
    "            maxf=tem\n",
    "            rs=r_state  \n",
    "    print(\"maximum f1 score \",rs,'it is',maxf) \n",
    "    "
   ]
  },
  {
   "cell_type": "code",
   "execution_count": 99,
   "metadata": {},
   "outputs": [
    {
     "data": {
      "text/plain": [
       "{'C': 0.9, 'kernel': 'poly'}"
      ]
     },
     "execution_count": 99,
     "metadata": {},
     "output_type": "execute_result"
    }
   ],
   "source": [
    "from sklearn.model_selection import GridSearchCV\n",
    "svc=SVC()\n",
    "parameters={'kernel':['linear','rbf','poly'],\"C\":[0.001,0.1,.5,.9,1,5,9.5,10,11]}\n",
    "gd=GridSearchCV(svc,parameters,cv=5,scoring='f1_micro')\n",
    "gd.fit(x,y)\n",
    "gd.best_params_"
   ]
  },
  {
   "cell_type": "code",
   "execution_count": 108,
   "metadata": {},
   "outputs": [
    {
     "name": "stdout",
     "output_type": "stream",
     "text": [
      "maximum f1 score  68 it is 0.33383529179421345\n"
     ]
    }
   ],
   "source": [
    "svc=SVC(kernel=\"rbf\",C=0.9)\n",
    "maxf1(svc,x,y)"
   ]
  },
  {
   "cell_type": "code",
   "execution_count": 114,
   "metadata": {},
   "outputs": [
    {
     "data": {
      "text/plain": [
       "{'criterion': 'gini', 'min_samples_leaf': 2, 'min_samples_split': 4}"
      ]
     },
     "execution_count": 114,
     "metadata": {},
     "output_type": "execute_result"
    }
   ],
   "source": [
    "from sklearn.tree import DecisionTreeClassifier\n",
    "parameters={'min_samples_leaf':[1,2,3,4],'min_samples_split':[2,3,4,5],'criterion':['gini','entropy']}\n",
    "dc=DecisionTreeClassifier()\n",
    "clf = GridSearchCV(dc, parameters, cv=5,scoring=\"f1_micro\")\n",
    "clf.fit(x,y)\n",
    "clf.best_params_"
   ]
  },
  {
   "cell_type": "code",
   "execution_count": 116,
   "metadata": {},
   "outputs": [
    {
     "name": "stdout",
     "output_type": "stream",
     "text": [
      "maximum f1 score  74 it is 0.40408602150537637\n"
     ]
    }
   ],
   "source": [
    "dc=DecisionTreeClassifier(criterion= 'gini',\n",
    "min_samples_leaf= 2,\n",
    "min_samples_split= 4)\n",
    "maxf1(dc,x,y)"
   ]
  },
  {
   "cell_type": "code",
   "execution_count": 125,
   "metadata": {},
   "outputs": [
    {
     "data": {
      "text/plain": [
       "{'learning_rate': 0.01, 'n_estimators': 1000}"
      ]
     },
     "execution_count": 125,
     "metadata": {},
     "output_type": "execute_result"
    }
   ],
   "source": [
    "from sklearn.ensemble import GradientBoostingClassifier\n",
    "parameters={\"learning_rate\":[0.001,0.01,0.1,1],\"n_estimators\":[10,100,200,500,1000]}\n",
    "gb_clf=GradientBoostingClassifier()\n",
    "clf = GridSearchCV(gb_clf, parameters, cv=5,scoring=\"f1_micro\")\n",
    "clf.fit(x,y)\n",
    "clf.best_params_"
   ]
  },
  {
   "cell_type": "code",
   "execution_count": 127,
   "metadata": {},
   "outputs": [
    {
     "name": "stdout",
     "output_type": "stream",
     "text": [
      "maximum f1 score  78 it is 0.39685177567530505\n"
     ]
    }
   ],
   "source": [
    "gb_clf=GradientBoostingClassifier(learning_rate=0.01,n_estimators=1000)\n",
    "maxf1(gb_clf,x,y)"
   ]
  },
  {
   "cell_type": "code",
   "execution_count": 131,
   "metadata": {},
   "outputs": [
    {
     "data": {
      "text/plain": [
       "{'n_estimators': 20}"
      ]
     },
     "execution_count": 131,
     "metadata": {},
     "output_type": "execute_result"
    }
   ],
   "source": [
    "from sklearn.model_selection import GridSearchCV\n",
    "parameters={\"n_estimators\":[10,20,40,80]}\n",
    "rf=RandomForestClassifier()\n",
    "gd=GridSearchCV(rf,parameters,cv=5,scoring=\"f1_micro\")\n",
    "gd.fit(x,y)\n",
    "gd.best_params_"
   ]
  },
  {
   "cell_type": "code",
   "execution_count": 132,
   "metadata": {},
   "outputs": [
    {
     "name": "stdout",
     "output_type": "stream",
     "text": [
      "maximum f1 score  89 it is 0.41018455228981543\n"
     ]
    }
   ],
   "source": [
    "rf=RandomForestClassifier(n_estimators=20)\n",
    "maxf1(rf,x,y)"
   ]
  },
  {
   "cell_type": "code",
   "execution_count": null,
   "metadata": {},
   "outputs": [],
   "source": []
  }
 ],
 "metadata": {
  "kernelspec": {
   "display_name": "Python 3",
   "language": "python",
   "name": "python3"
  },
  "language_info": {
   "codemirror_mode": {
    "name": "ipython",
    "version": 3
   },
   "file_extension": ".py",
   "mimetype": "text/x-python",
   "name": "python",
   "nbconvert_exporter": "python",
   "pygments_lexer": "ipython3",
   "version": "3.7.4"
  }
 },
 "nbformat": 4,
 "nbformat_minor": 2
}
